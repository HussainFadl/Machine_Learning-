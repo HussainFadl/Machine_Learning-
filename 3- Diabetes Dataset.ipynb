{
 "cells": [
  {
   "cell_type": "markdown",
   "id": "6bf3c3ba-ed3e-41a4-9d0a-b4446374d889",
   "metadata": {},
   "source": [
    "# Diabetes Dataset:  \n",
    "Among the various datasets avaliable within the scikit-learn library, there is the diabets dataset. This dataset was used for the first time in 2004 (*Annals of Statistics*, by Efron, Hastie, jhonston, and Tibshirani).  \n",
    "Since then it has become an example widely used to study various predictive models and their effectiveness.  \n",
    "To upload the data contained in this dataset, before you have to import the __datasets__ module of the scikit-learn library and then you call the __load_diabetes()__ function to load the data set into variable that will be called just *diabetes*."
   ]
  },
  {
   "cell_type": "code",
   "execution_count": 1,
   "id": "d6af19af-eca6-44d3-a580-8faaf1e5f2ac",
   "metadata": {},
   "outputs": [],
   "source": [
    "from sklearn import datasets\n",
    "diabetes = datasets.load_diabetes()"
   ]
  },
  {
   "cell_type": "markdown",
   "id": "ec762d85-75d5-48cf-9e0d-ebc9f192e56b",
   "metadata": {},
   "source": [
    "This dataset contains phsyological data collected on 442 patients and as corresponding target an indicator of the disease progression after a year.  \n",
    "The phsyological data occupy the first 10 columns with values that indicate respectively:  \n",
    "• Age  \n",
    "• Sex  \n",
    "• Body Mass Index  \n",
    "•  Boold Pressure  \n",
    "• S1, S2, S3, S4, S5, S6 (six blood serum measurement).  \n",
    "\n",
    "These measurements can be obtained by calling the __data__ attribute. But going to check the values in the dataset you will find values very different from what you would have expected.  \n",
    "For example, we look at 10 values for the first patient.  "
   ]
  },
  {
   "cell_type": "code",
   "execution_count": 18,
   "id": "77f7d4b9-820f-4c14-b131-a3a379925c91",
   "metadata": {},
   "outputs": [
    {
     "data": {
      "text/plain": [
       "array([[ 0.03807591,  0.05068012,  0.06169621, ..., -0.00259226,\n",
       "         0.01990749, -0.01764613],\n",
       "       [-0.00188202, -0.04464164, -0.05147406, ..., -0.03949338,\n",
       "        -0.06833155, -0.09220405],\n",
       "       [ 0.08529891,  0.05068012,  0.04445121, ..., -0.00259226,\n",
       "         0.00286131, -0.02593034],\n",
       "       ...,\n",
       "       [ 0.04170844,  0.05068012, -0.01590626, ..., -0.01107952,\n",
       "        -0.04688253,  0.01549073],\n",
       "       [-0.04547248, -0.04464164,  0.03906215, ...,  0.02655962,\n",
       "         0.04452873, -0.02593034],\n",
       "       [-0.04547248, -0.04464164, -0.0730303 , ..., -0.03949338,\n",
       "        -0.00422151,  0.00306441]])"
      ]
     },
     "execution_count": 18,
     "metadata": {},
     "output_type": "execute_result"
    }
   ],
   "source": [
    "diabetes.data"
   ]
  },
  {
   "cell_type": "code",
   "execution_count": 20,
   "id": "3ebc35cd-9cd9-4062-9523-fc4f5ab2aa4d",
   "metadata": {},
   "outputs": [
    {
     "data": {
      "text/plain": [
       "array([ 0.03807591,  0.05068012,  0.06169621,  0.02187239, -0.0442235 ,\n",
       "       -0.03482076, -0.04340085, -0.00259226,  0.01990749, -0.01764613])"
      ]
     },
     "execution_count": 20,
     "metadata": {},
     "output_type": "execute_result"
    }
   ],
   "source": [
    "diabetes.data[0]# representing the first record , tuple , row "
   ]
  },
  {
   "cell_type": "code",
   "execution_count": 21,
   "id": "fb9279ba-82dd-450c-a825-4e3d8f9f7ad1",
   "metadata": {},
   "outputs": [],
   "source": [
    "import pandas as pd\n",
    "import numpy as np\n",
    "diabetes_table = pd.DataFrame(diabetes.data, columns=['Age', 'Sex', 'Body Mass Index','Boold Pressure', 'S1','S2','S3','S4','S5','S6'])"
   ]
  },
  {
   "cell_type": "code",
   "execution_count": 22,
   "id": "45bbb7ab-e4bd-4d22-bf8e-b2e4f9959a4e",
   "metadata": {},
   "outputs": [
    {
     "data": {
      "text/html": [
       "<div>\n",
       "<style scoped>\n",
       "    .dataframe tbody tr th:only-of-type {\n",
       "        vertical-align: middle;\n",
       "    }\n",
       "\n",
       "    .dataframe tbody tr th {\n",
       "        vertical-align: top;\n",
       "    }\n",
       "\n",
       "    .dataframe thead th {\n",
       "        text-align: right;\n",
       "    }\n",
       "</style>\n",
       "<table border=\"1\" class=\"dataframe\">\n",
       "  <thead>\n",
       "    <tr style=\"text-align: right;\">\n",
       "      <th></th>\n",
       "      <th>Age</th>\n",
       "      <th>Sex</th>\n",
       "      <th>Body Mass Index</th>\n",
       "      <th>Boold Pressure</th>\n",
       "      <th>S1</th>\n",
       "      <th>S2</th>\n",
       "      <th>S3</th>\n",
       "      <th>S4</th>\n",
       "      <th>S5</th>\n",
       "      <th>S6</th>\n",
       "    </tr>\n",
       "  </thead>\n",
       "  <tbody>\n",
       "    <tr>\n",
       "      <th>0</th>\n",
       "      <td>0.038076</td>\n",
       "      <td>0.050680</td>\n",
       "      <td>0.061696</td>\n",
       "      <td>0.021872</td>\n",
       "      <td>-0.044223</td>\n",
       "      <td>-0.034821</td>\n",
       "      <td>-0.043401</td>\n",
       "      <td>-0.002592</td>\n",
       "      <td>0.019907</td>\n",
       "      <td>-0.017646</td>\n",
       "    </tr>\n",
       "    <tr>\n",
       "      <th>1</th>\n",
       "      <td>-0.001882</td>\n",
       "      <td>-0.044642</td>\n",
       "      <td>-0.051474</td>\n",
       "      <td>-0.026328</td>\n",
       "      <td>-0.008449</td>\n",
       "      <td>-0.019163</td>\n",
       "      <td>0.074412</td>\n",
       "      <td>-0.039493</td>\n",
       "      <td>-0.068332</td>\n",
       "      <td>-0.092204</td>\n",
       "    </tr>\n",
       "    <tr>\n",
       "      <th>2</th>\n",
       "      <td>0.085299</td>\n",
       "      <td>0.050680</td>\n",
       "      <td>0.044451</td>\n",
       "      <td>-0.005670</td>\n",
       "      <td>-0.045599</td>\n",
       "      <td>-0.034194</td>\n",
       "      <td>-0.032356</td>\n",
       "      <td>-0.002592</td>\n",
       "      <td>0.002861</td>\n",
       "      <td>-0.025930</td>\n",
       "    </tr>\n",
       "    <tr>\n",
       "      <th>3</th>\n",
       "      <td>-0.089063</td>\n",
       "      <td>-0.044642</td>\n",
       "      <td>-0.011595</td>\n",
       "      <td>-0.036656</td>\n",
       "      <td>0.012191</td>\n",
       "      <td>0.024991</td>\n",
       "      <td>-0.036038</td>\n",
       "      <td>0.034309</td>\n",
       "      <td>0.022688</td>\n",
       "      <td>-0.009362</td>\n",
       "    </tr>\n",
       "    <tr>\n",
       "      <th>4</th>\n",
       "      <td>0.005383</td>\n",
       "      <td>-0.044642</td>\n",
       "      <td>-0.036385</td>\n",
       "      <td>0.021872</td>\n",
       "      <td>0.003935</td>\n",
       "      <td>0.015596</td>\n",
       "      <td>0.008142</td>\n",
       "      <td>-0.002592</td>\n",
       "      <td>-0.031988</td>\n",
       "      <td>-0.046641</td>\n",
       "    </tr>\n",
       "    <tr>\n",
       "      <th>...</th>\n",
       "      <td>...</td>\n",
       "      <td>...</td>\n",
       "      <td>...</td>\n",
       "      <td>...</td>\n",
       "      <td>...</td>\n",
       "      <td>...</td>\n",
       "      <td>...</td>\n",
       "      <td>...</td>\n",
       "      <td>...</td>\n",
       "      <td>...</td>\n",
       "    </tr>\n",
       "    <tr>\n",
       "      <th>437</th>\n",
       "      <td>0.041708</td>\n",
       "      <td>0.050680</td>\n",
       "      <td>0.019662</td>\n",
       "      <td>0.059744</td>\n",
       "      <td>-0.005697</td>\n",
       "      <td>-0.002566</td>\n",
       "      <td>-0.028674</td>\n",
       "      <td>-0.002592</td>\n",
       "      <td>0.031193</td>\n",
       "      <td>0.007207</td>\n",
       "    </tr>\n",
       "    <tr>\n",
       "      <th>438</th>\n",
       "      <td>-0.005515</td>\n",
       "      <td>0.050680</td>\n",
       "      <td>-0.015906</td>\n",
       "      <td>-0.067642</td>\n",
       "      <td>0.049341</td>\n",
       "      <td>0.079165</td>\n",
       "      <td>-0.028674</td>\n",
       "      <td>0.034309</td>\n",
       "      <td>-0.018114</td>\n",
       "      <td>0.044485</td>\n",
       "    </tr>\n",
       "    <tr>\n",
       "      <th>439</th>\n",
       "      <td>0.041708</td>\n",
       "      <td>0.050680</td>\n",
       "      <td>-0.015906</td>\n",
       "      <td>0.017293</td>\n",
       "      <td>-0.037344</td>\n",
       "      <td>-0.013840</td>\n",
       "      <td>-0.024993</td>\n",
       "      <td>-0.011080</td>\n",
       "      <td>-0.046883</td>\n",
       "      <td>0.015491</td>\n",
       "    </tr>\n",
       "    <tr>\n",
       "      <th>440</th>\n",
       "      <td>-0.045472</td>\n",
       "      <td>-0.044642</td>\n",
       "      <td>0.039062</td>\n",
       "      <td>0.001215</td>\n",
       "      <td>0.016318</td>\n",
       "      <td>0.015283</td>\n",
       "      <td>-0.028674</td>\n",
       "      <td>0.026560</td>\n",
       "      <td>0.044529</td>\n",
       "      <td>-0.025930</td>\n",
       "    </tr>\n",
       "    <tr>\n",
       "      <th>441</th>\n",
       "      <td>-0.045472</td>\n",
       "      <td>-0.044642</td>\n",
       "      <td>-0.073030</td>\n",
       "      <td>-0.081413</td>\n",
       "      <td>0.083740</td>\n",
       "      <td>0.027809</td>\n",
       "      <td>0.173816</td>\n",
       "      <td>-0.039493</td>\n",
       "      <td>-0.004222</td>\n",
       "      <td>0.003064</td>\n",
       "    </tr>\n",
       "  </tbody>\n",
       "</table>\n",
       "<p>442 rows × 10 columns</p>\n",
       "</div>"
      ],
      "text/plain": [
       "          Age       Sex  Body Mass Index  Boold Pressure        S1        S2  \\\n",
       "0    0.038076  0.050680         0.061696        0.021872 -0.044223 -0.034821   \n",
       "1   -0.001882 -0.044642        -0.051474       -0.026328 -0.008449 -0.019163   \n",
       "2    0.085299  0.050680         0.044451       -0.005670 -0.045599 -0.034194   \n",
       "3   -0.089063 -0.044642        -0.011595       -0.036656  0.012191  0.024991   \n",
       "4    0.005383 -0.044642        -0.036385        0.021872  0.003935  0.015596   \n",
       "..        ...       ...              ...             ...       ...       ...   \n",
       "437  0.041708  0.050680         0.019662        0.059744 -0.005697 -0.002566   \n",
       "438 -0.005515  0.050680        -0.015906       -0.067642  0.049341  0.079165   \n",
       "439  0.041708  0.050680        -0.015906        0.017293 -0.037344 -0.013840   \n",
       "440 -0.045472 -0.044642         0.039062        0.001215  0.016318  0.015283   \n",
       "441 -0.045472 -0.044642        -0.073030       -0.081413  0.083740  0.027809   \n",
       "\n",
       "           S3        S4        S5        S6  \n",
       "0   -0.043401 -0.002592  0.019907 -0.017646  \n",
       "1    0.074412 -0.039493 -0.068332 -0.092204  \n",
       "2   -0.032356 -0.002592  0.002861 -0.025930  \n",
       "3   -0.036038  0.034309  0.022688 -0.009362  \n",
       "4    0.008142 -0.002592 -0.031988 -0.046641  \n",
       "..        ...       ...       ...       ...  \n",
       "437 -0.028674 -0.002592  0.031193  0.007207  \n",
       "438 -0.028674  0.034309 -0.018114  0.044485  \n",
       "439 -0.024993 -0.011080 -0.046883  0.015491  \n",
       "440 -0.028674  0.026560  0.044529 -0.025930  \n",
       "441  0.173816 -0.039493 -0.004222  0.003064  \n",
       "\n",
       "[442 rows x 10 columns]"
      ]
     },
     "execution_count": 22,
     "metadata": {},
     "output_type": "execute_result"
    }
   ],
   "source": [
    "diabetes_table"
   ]
  },
  {
   "cell_type": "markdown",
   "id": "449eeba7-6f4a-4e30-928c-5f33c8f3a4d3",
   "metadata": {},
   "source": [
    "These values are in fact the result of processing. Each of the ten values was mean centered and subsequently scaled by the standard deviation times the number of the samples.  \n",
    "Checking will reveal that  the sum of squares of each column is equal to 1.  \n",
    "Try doing this calculation with the age measurments; you will obtain a value very colse to 1.  "
   ]
  },
  {
   "cell_type": "code",
   "execution_count": 23,
   "id": "0136910a-06de-41f4-899f-6136862466e5",
   "metadata": {},
   "outputs": [
    {
     "data": {
      "text/plain": [
       "1.0000000000000009"
      ]
     },
     "execution_count": 23,
     "metadata": {},
     "output_type": "execute_result"
    }
   ],
   "source": [
    "np.sum(diabetes.data[:,0]**2)"
   ]
  },
  {
   "cell_type": "markdown",
   "id": "8e12ec2c-780e-4818-a68e-8c8b81902cfa",
   "metadata": {},
   "source": [
    "Even though these values are normalized and therefore difficult to read, they continue to express the 10 physiological characteristics and therefore have not lost their value or statistical information.  \n",
    "As for the indicators of the progress of the disease, that is,  the values that must correspond to the results of your predictions, these are obtainable means of the __target__ attribute"
   ]
  },
  {
   "cell_type": "code",
   "execution_count": 24,
   "id": "55d07265-39a6-4da8-9364-7564ae0b173f",
   "metadata": {},
   "outputs": [
    {
     "data": {
      "text/plain": [
       "array([151.,  75., 141., 206., 135.,  97., 138.,  63., 110., 310., 101.,\n",
       "        69., 179., 185., 118., 171., 166., 144.,  97., 168.,  68.,  49.,\n",
       "        68., 245., 184., 202., 137.,  85., 131., 283., 129.,  59., 341.,\n",
       "        87.,  65., 102., 265., 276., 252.,  90., 100.,  55.,  61.,  92.,\n",
       "       259.,  53., 190., 142.,  75., 142., 155., 225.,  59., 104., 182.,\n",
       "       128.,  52.,  37., 170., 170.,  61., 144.,  52., 128.,  71., 163.,\n",
       "       150.,  97., 160., 178.,  48., 270., 202., 111.,  85.,  42., 170.,\n",
       "       200., 252., 113., 143.,  51.,  52., 210.,  65., 141.,  55., 134.,\n",
       "        42., 111.,  98., 164.,  48.,  96.,  90., 162., 150., 279.,  92.,\n",
       "        83., 128., 102., 302., 198.,  95.,  53., 134., 144., 232.,  81.,\n",
       "       104.,  59., 246., 297., 258., 229., 275., 281., 179., 200., 200.,\n",
       "       173., 180.,  84., 121., 161.,  99., 109., 115., 268., 274., 158.,\n",
       "       107.,  83., 103., 272.,  85., 280., 336., 281., 118., 317., 235.,\n",
       "        60., 174., 259., 178., 128.,  96., 126., 288.,  88., 292.,  71.,\n",
       "       197., 186.,  25.,  84.,  96., 195.,  53., 217., 172., 131., 214.,\n",
       "        59.,  70., 220., 268., 152.,  47.,  74., 295., 101., 151., 127.,\n",
       "       237., 225.,  81., 151., 107.,  64., 138., 185., 265., 101., 137.,\n",
       "       143., 141.,  79., 292., 178.,  91., 116.,  86., 122.,  72., 129.,\n",
       "       142.,  90., 158.,  39., 196., 222., 277.,  99., 196., 202., 155.,\n",
       "        77., 191.,  70.,  73.,  49.,  65., 263., 248., 296., 214., 185.,\n",
       "        78.,  93., 252., 150.,  77., 208.,  77., 108., 160.,  53., 220.,\n",
       "       154., 259.,  90., 246., 124.,  67.,  72., 257., 262., 275., 177.,\n",
       "        71.,  47., 187., 125.,  78.,  51., 258., 215., 303., 243.,  91.,\n",
       "       150., 310., 153., 346.,  63.,  89.,  50.,  39., 103., 308., 116.,\n",
       "       145.,  74.,  45., 115., 264.,  87., 202., 127., 182., 241.,  66.,\n",
       "        94., 283.,  64., 102., 200., 265.,  94., 230., 181., 156., 233.,\n",
       "        60., 219.,  80.,  68., 332., 248.,  84., 200.,  55.,  85.,  89.,\n",
       "        31., 129.,  83., 275.,  65., 198., 236., 253., 124.,  44., 172.,\n",
       "       114., 142., 109., 180., 144., 163., 147.,  97., 220., 190., 109.,\n",
       "       191., 122., 230., 242., 248., 249., 192., 131., 237.,  78., 135.,\n",
       "       244., 199., 270., 164.,  72.,  96., 306.,  91., 214.,  95., 216.,\n",
       "       263., 178., 113., 200., 139., 139.,  88., 148.,  88., 243.,  71.,\n",
       "        77., 109., 272.,  60.,  54., 221.,  90., 311., 281., 182., 321.,\n",
       "        58., 262., 206., 233., 242., 123., 167.,  63., 197.,  71., 168.,\n",
       "       140., 217., 121., 235., 245.,  40.,  52., 104., 132.,  88.,  69.,\n",
       "       219.,  72., 201., 110.,  51., 277.,  63., 118.,  69., 273., 258.,\n",
       "        43., 198., 242., 232., 175.,  93., 168., 275., 293., 281.,  72.,\n",
       "       140., 189., 181., 209., 136., 261., 113., 131., 174., 257.,  55.,\n",
       "        84.,  42., 146., 212., 233.,  91., 111., 152., 120.,  67., 310.,\n",
       "        94., 183.,  66., 173.,  72.,  49.,  64.,  48., 178., 104., 132.,\n",
       "       220.,  57.])"
      ]
     },
     "execution_count": 24,
     "metadata": {},
     "output_type": "execute_result"
    }
   ],
   "source": [
    "diabetes.target"
   ]
  },
  {
   "cell_type": "markdown",
   "id": "27bc3202-de32-47c7-aae9-66693cd3972c",
   "metadata": {},
   "source": [
    "You obtain a series of 442 integer values between 25 and 346."
   ]
  },
  {
   "cell_type": "markdown",
   "id": "5aa148db-9208-4de5-b0ae-389aa90df03c",
   "metadata": {},
   "source": [
    "# Linear Regression: The Least Square Regression:  \n",
    "Linear regression is a procedure that uses data contained in the training set to build a linear model. The most simple is based on the equation of a rect with the two parameters *a* and *b* to characterize it.  \n",
    "These parameters will be calculated so as to make the sum of squared residuals as small as possible.    \n",
    "$$y=a*x + c$$  \n",
    "\n",
    "In this expression, *x* is the training set, *y* is the target, *b* is the slope, and *c* is the intercept of the rect represented by the model.  \n",
    "In scikit-learn, to use predictive model for the linear regression you must import __linear_model__ module and then use the manufacturer __LinearRegression()__ constructor for creating the predictive model, which you call __linreg__."
   ]
  },
  {
   "cell_type": "code",
   "execution_count": 45,
   "id": "8f137927-1933-4d63-a4b0-a1f8a92e2f0e",
   "metadata": {},
   "outputs": [],
   "source": [
    "from sklearn import linear_model\n",
    "linreg = linear_model.LinearRegression()"
   ]
  },
  {
   "cell_type": "markdown",
   "id": "0efb9a6b-2275-4e7f-8f34-ca81978ce84d",
   "metadata": {},
   "source": [
    "For participating with an example of linear regression you can use the diabetes dataset descibed earlier.  \n",
    "First you will need to break the 442 patients into a training set (composed of the first 422 patients) and a test set (the last 20 patients)."
   ]
  },
  {
   "cell_type": "code",
   "execution_count": 46,
   "id": "0681659a-a645-4853-b067-fc24c3234819",
   "metadata": {},
   "outputs": [],
   "source": [
    "x_train = diabetes.data[:-20]\n",
    "y_train = diabetes.data [: -20]\n",
    "x_test = diabetes.data[-20:]\n",
    "y_test = diabetes.data[-20:]"
   ]
  },
  {
   "cell_type": "markdown",
   "id": "92ec5524-15e2-4b1a-9ddf-a9904364ae01",
   "metadata": {},
   "source": [
    "Now apply the training set to the predictive model through the use of __fit()__ function."
   ]
  },
  {
   "cell_type": "code",
   "execution_count": 47,
   "id": "112f8f02-aa5a-4a87-9f0f-f71caeac9a86",
   "metadata": {},
   "outputs": [
    {
     "data": {
      "text/html": [
       "<style>#sk-container-id-4 {color: black;}#sk-container-id-4 pre{padding: 0;}#sk-container-id-4 div.sk-toggleable {background-color: white;}#sk-container-id-4 label.sk-toggleable__label {cursor: pointer;display: block;width: 100%;margin-bottom: 0;padding: 0.3em;box-sizing: border-box;text-align: center;}#sk-container-id-4 label.sk-toggleable__label-arrow:before {content: \"▸\";float: left;margin-right: 0.25em;color: #696969;}#sk-container-id-4 label.sk-toggleable__label-arrow:hover:before {color: black;}#sk-container-id-4 div.sk-estimator:hover label.sk-toggleable__label-arrow:before {color: black;}#sk-container-id-4 div.sk-toggleable__content {max-height: 0;max-width: 0;overflow: hidden;text-align: left;background-color: #f0f8ff;}#sk-container-id-4 div.sk-toggleable__content pre {margin: 0.2em;color: black;border-radius: 0.25em;background-color: #f0f8ff;}#sk-container-id-4 input.sk-toggleable__control:checked~div.sk-toggleable__content {max-height: 200px;max-width: 100%;overflow: auto;}#sk-container-id-4 input.sk-toggleable__control:checked~label.sk-toggleable__label-arrow:before {content: \"▾\";}#sk-container-id-4 div.sk-estimator input.sk-toggleable__control:checked~label.sk-toggleable__label {background-color: #d4ebff;}#sk-container-id-4 div.sk-label input.sk-toggleable__control:checked~label.sk-toggleable__label {background-color: #d4ebff;}#sk-container-id-4 input.sk-hidden--visually {border: 0;clip: rect(1px 1px 1px 1px);clip: rect(1px, 1px, 1px, 1px);height: 1px;margin: -1px;overflow: hidden;padding: 0;position: absolute;width: 1px;}#sk-container-id-4 div.sk-estimator {font-family: monospace;background-color: #f0f8ff;border: 1px dotted black;border-radius: 0.25em;box-sizing: border-box;margin-bottom: 0.5em;}#sk-container-id-4 div.sk-estimator:hover {background-color: #d4ebff;}#sk-container-id-4 div.sk-parallel-item::after {content: \"\";width: 100%;border-bottom: 1px solid gray;flex-grow: 1;}#sk-container-id-4 div.sk-label:hover label.sk-toggleable__label {background-color: #d4ebff;}#sk-container-id-4 div.sk-serial::before {content: \"\";position: absolute;border-left: 1px solid gray;box-sizing: border-box;top: 0;bottom: 0;left: 50%;z-index: 0;}#sk-container-id-4 div.sk-serial {display: flex;flex-direction: column;align-items: center;background-color: white;padding-right: 0.2em;padding-left: 0.2em;position: relative;}#sk-container-id-4 div.sk-item {position: relative;z-index: 1;}#sk-container-id-4 div.sk-parallel {display: flex;align-items: stretch;justify-content: center;background-color: white;position: relative;}#sk-container-id-4 div.sk-item::before, #sk-container-id-4 div.sk-parallel-item::before {content: \"\";position: absolute;border-left: 1px solid gray;box-sizing: border-box;top: 0;bottom: 0;left: 50%;z-index: -1;}#sk-container-id-4 div.sk-parallel-item {display: flex;flex-direction: column;z-index: 1;position: relative;background-color: white;}#sk-container-id-4 div.sk-parallel-item:first-child::after {align-self: flex-end;width: 50%;}#sk-container-id-4 div.sk-parallel-item:last-child::after {align-self: flex-start;width: 50%;}#sk-container-id-4 div.sk-parallel-item:only-child::after {width: 0;}#sk-container-id-4 div.sk-dashed-wrapped {border: 1px dashed gray;margin: 0 0.4em 0.5em 0.4em;box-sizing: border-box;padding-bottom: 0.4em;background-color: white;}#sk-container-id-4 div.sk-label label {font-family: monospace;font-weight: bold;display: inline-block;line-height: 1.2em;}#sk-container-id-4 div.sk-label-container {text-align: center;}#sk-container-id-4 div.sk-container {/* jupyter's `normalize.less` sets `[hidden] { display: none; }` but bootstrap.min.css set `[hidden] { display: none !important; }` so we also need the `!important` here to be able to override the default hidden behavior on the sphinx rendered scikit-learn.org. See: https://github.com/scikit-learn/scikit-learn/issues/21755 */display: inline-block !important;position: relative;}#sk-container-id-4 div.sk-text-repr-fallback {display: none;}</style><div id=\"sk-container-id-4\" class=\"sk-top-container\"><div class=\"sk-text-repr-fallback\"><pre>LinearRegression()</pre><b>In a Jupyter environment, please rerun this cell to show the HTML representation or trust the notebook. <br />On GitHub, the HTML representation is unable to render, please try loading this page with nbviewer.org.</b></div><div class=\"sk-container\" hidden><div class=\"sk-item\"><div class=\"sk-estimator sk-toggleable\"><input class=\"sk-toggleable__control sk-hidden--visually\" id=\"sk-estimator-id-4\" type=\"checkbox\" checked><label for=\"sk-estimator-id-4\" class=\"sk-toggleable__label sk-toggleable__label-arrow\">LinearRegression</label><div class=\"sk-toggleable__content\"><pre>LinearRegression()</pre></div></div></div></div></div>"
      ],
      "text/plain": [
       "LinearRegression()"
      ]
     },
     "execution_count": 47,
     "metadata": {},
     "output_type": "execute_result"
    }
   ],
   "source": [
    "linreg.fit(x_train, y_train)"
   ]
  },
  {
   "cell_type": "code",
   "execution_count": null,
   "id": "7347518c-be92-4978-828b-31c98e59d38b",
   "metadata": {},
   "outputs": [],
   "source": []
  },
  {
   "cell_type": "markdown",
   "id": "2cc165c2-6d59-43e1-97d6-86fa747567d7",
   "metadata": {},
   "source": [
    "Once the model is trained you can get the ten *b* coeffecients calculated for each physiological variable, using the __coef___  attibute of the predictive model."
   ]
  },
  {
   "cell_type": "code",
   "execution_count": 38,
   "id": "c960ebe7-7544-400f-a349-01c509765f82",
   "metadata": {},
   "outputs": [
    {
     "data": {
      "text/plain": [
       "array([[ 1.00000000e+00, -1.16985326e-16, -3.15788764e-17,\n",
       "        -2.19035793e-16, -1.34448236e-16, -1.71137957e-16,\n",
       "        -5.41878246e-17,  1.44378995e-17,  4.39663977e-17,\n",
       "        -2.67305848e-17],\n",
       "       [-1.55563849e-16,  1.00000000e+00, -4.44089210e-16,\n",
       "         3.33066907e-16, -6.66133815e-16,  3.88578059e-16,\n",
       "         1.80411242e-16,  1.66533454e-16,  1.11022302e-16,\n",
       "         5.55111512e-17],\n",
       "       [-4.09378550e-17,  0.00000000e+00,  1.00000000e+00,\n",
       "         5.41233725e-16, -5.13478149e-16,  2.77555756e-16,\n",
       "         0.00000000e+00,  3.67761377e-16, -1.94289029e-16,\n",
       "        -1.38777878e-17],\n",
       "       [-1.88314133e-16, -3.33066907e-16,  6.66133815e-16,\n",
       "         1.00000000e+00,  1.66533454e-16, -4.44089210e-16,\n",
       "         6.93889390e-17, -1.66533454e-16,  1.66533454e-16,\n",
       "         2.77555756e-17],\n",
       "       [ 1.96501704e-16, -5.55111512e-17, -7.07767178e-16,\n",
       "        -1.94289029e-16,  1.00000000e+00,  1.38777878e-16,\n",
       "         3.12250226e-17, -1.52655666e-16,  0.00000000e+00,\n",
       "         5.55111512e-17],\n",
       "       [ 0.00000000e+00,  1.66533454e-16, -1.52655666e-16,\n",
       "        -1.38777878e-16,  2.49800181e-16,  1.00000000e+00,\n",
       "         4.89192020e-16, -4.16333634e-17,  1.38777878e-16,\n",
       "         5.55111512e-17],\n",
       "       [-1.55563849e-16, -3.05311332e-16, -2.67147415e-16,\n",
       "        -5.55111512e-17,  1.45716772e-16,  3.95516953e-16,\n",
       "         1.00000000e+00, -5.93275429e-16,  4.71844785e-16,\n",
       "        -3.46944695e-18],\n",
       "       [ 2.78377414e-16, -5.55111512e-17, -1.04083409e-16,\n",
       "         4.16333634e-17, -7.07767178e-16,  2.35922393e-16,\n",
       "         5.89805982e-16,  1.00000000e+00,  3.19189120e-16,\n",
       "        -1.38777878e-17],\n",
       "       [ 1.63751420e-17,  5.55111512e-17, -1.80411242e-16,\n",
       "        -5.55111512e-17, -4.02455846e-16,  1.38777878e-16,\n",
       "         5.75928194e-16,  2.49800181e-16,  1.00000000e+00,\n",
       "         0.00000000e+00],\n",
       "       [ 4.09378550e-17, -2.77555756e-16,  0.00000000e+00,\n",
       "         2.22044605e-16,  2.49800181e-16,  1.80411242e-16,\n",
       "        -1.38777878e-16, -3.05311332e-16,  1.94289029e-16,\n",
       "         1.00000000e+00]])"
      ]
     },
     "execution_count": 38,
     "metadata": {},
     "output_type": "execute_result"
    }
   ],
   "source": [
    "linreg.coef_"
   ]
  },
  {
   "cell_type": "markdown",
   "id": "8b11364b-150e-4ccf-86eb-8989410e9b0b",
   "metadata": {},
   "source": [
    "If you apply the test set to the __linreg__ prediction model you will get a series of targets to be compared with the values actually observed."
   ]
  },
  {
   "cell_type": "code",
   "execution_count": 51,
   "id": "f861ff81-d55b-4a26-a4da-96ce770d4c36",
   "metadata": {},
   "outputs": [
    {
     "data": {
      "text/plain": [
       "array([[-0.07816532,  0.05068012,  0.07786339,  0.05285804,  0.07823631,\n",
       "         0.0644473 ,  0.02655027, -0.00259226,  0.04067283, -0.00936191],\n",
       "       [ 0.0090156 ,  0.05068012, -0.03961813,  0.02875809,  0.03833367,\n",
       "         0.0735286 , -0.07285395,  0.1081111 ,  0.01556846, -0.04664087],\n",
       "       [ 0.00175052,  0.05068012,  0.01103904, -0.01944183, -0.01670444,\n",
       "        -0.00381907, -0.04708248,  0.03430886,  0.02405509,  0.02377494],\n",
       "       [-0.07816532, -0.04464164, -0.04069594, -0.08141314, -0.10063757,\n",
       "        -0.11279473,  0.02286863, -0.0763945 , -0.02029232, -0.05078298],\n",
       "       [ 0.03081083,  0.05068012, -0.03422907,  0.04366563,  0.05759701,\n",
       "         0.06883138, -0.03235593,  0.05755657,  0.0354587 ,  0.08590655],\n",
       "       [-0.03457486,  0.05068012,  0.00564998, -0.00567042, -0.07311851,\n",
       "        -0.06269098, -0.00658447, -0.03949338, -0.04542404,  0.03205916],\n",
       "       [ 0.04897352,  0.05068012,  0.08864151,  0.08728655,  0.03558177,\n",
       "         0.02154596, -0.02499266,  0.03430886,  0.06605067,  0.13146972],\n",
       "       [-0.04183994, -0.04464164, -0.03315126, -0.02288468,  0.04658939,\n",
       "         0.04158746,  0.05600338, -0.02473293, -0.02595311, -0.03835666],\n",
       "       [-0.00914709, -0.04464164, -0.05686312, -0.05042748,  0.02182224,\n",
       "         0.04534524, -0.02867429,  0.03430886, -0.00991877, -0.01764613],\n",
       "       [ 0.07076875,  0.05068012, -0.03099563,  0.02187239, -0.03734373,\n",
       "        -0.04703355,  0.03391355, -0.03949338, -0.01495969, -0.0010777 ],\n",
       "       [ 0.0090156 , -0.04464164,  0.05522933, -0.00567042,  0.05759701,\n",
       "         0.04471895, -0.00290283,  0.02323852,  0.05568623,  0.10661708],\n",
       "       [-0.02730979, -0.04464164, -0.06009656, -0.02977038,  0.04658939,\n",
       "         0.01998022,  0.12227286, -0.03949338, -0.05140387, -0.00936191],\n",
       "       [ 0.01628068, -0.04464164,  0.00133873,  0.00810098,  0.0053108 ,\n",
       "         0.01089891,  0.03023191, -0.03949338, -0.04542404,  0.03205916],\n",
       "       [-0.01277963, -0.04464164, -0.02345095, -0.04009893, -0.01670444,\n",
       "         0.00463594, -0.01762938, -0.00259226, -0.03845972, -0.03835666],\n",
       "       [-0.05637009, -0.04464164, -0.07410811, -0.05042748, -0.02496016,\n",
       "        -0.04703355,  0.09281975, -0.0763945 , -0.0611758 , -0.04664087],\n",
       "       [ 0.04170844,  0.05068012,  0.01966154,  0.05974375, -0.00569682,\n",
       "        -0.00256647, -0.02867429, -0.00259226,  0.0311926 ,  0.00720652],\n",
       "       [-0.00551455,  0.05068012, -0.01590626, -0.06764174,  0.0493413 ,\n",
       "         0.07916528, -0.02867429,  0.03430886, -0.01811369,  0.04448548],\n",
       "       [ 0.04170844,  0.05068012, -0.01590626,  0.01729339, -0.03734373,\n",
       "        -0.01383982, -0.02499266, -0.01107952, -0.04688253,  0.01549073],\n",
       "       [-0.04547248, -0.04464164,  0.03906215,  0.00121528,  0.01631843,\n",
       "         0.01528299, -0.02867429,  0.02655962,  0.04452873, -0.02593034],\n",
       "       [-0.04547248, -0.04464164, -0.0730303 , -0.08141314,  0.08374012,\n",
       "         0.02780893,  0.17381578, -0.03949338, -0.00422151,  0.00306441]])"
      ]
     },
     "execution_count": 51,
     "metadata": {},
     "output_type": "execute_result"
    }
   ],
   "source": [
    "linreg.predict(x_test)"
   ]
  },
  {
   "cell_type": "code",
   "execution_count": 52,
   "id": "84551c1d-01f0-4311-92a4-8f4dbdfdf8ff",
   "metadata": {},
   "outputs": [
    {
     "data": {
      "text/plain": [
       "array([[-0.07816532,  0.05068012,  0.07786339,  0.05285804,  0.07823631,\n",
       "         0.0644473 ,  0.02655027, -0.00259226,  0.04067283, -0.00936191],\n",
       "       [ 0.0090156 ,  0.05068012, -0.03961813,  0.02875809,  0.03833367,\n",
       "         0.0735286 , -0.07285395,  0.1081111 ,  0.01556846, -0.04664087],\n",
       "       [ 0.00175052,  0.05068012,  0.01103904, -0.01944183, -0.01670444,\n",
       "        -0.00381907, -0.04708248,  0.03430886,  0.02405509,  0.02377494],\n",
       "       [-0.07816532, -0.04464164, -0.04069594, -0.08141314, -0.10063757,\n",
       "        -0.11279473,  0.02286863, -0.0763945 , -0.02029232, -0.05078298],\n",
       "       [ 0.03081083,  0.05068012, -0.03422907,  0.04366563,  0.05759701,\n",
       "         0.06883138, -0.03235593,  0.05755657,  0.0354587 ,  0.08590655],\n",
       "       [-0.03457486,  0.05068012,  0.00564998, -0.00567042, -0.07311851,\n",
       "        -0.06269098, -0.00658447, -0.03949338, -0.04542404,  0.03205916],\n",
       "       [ 0.04897352,  0.05068012,  0.08864151,  0.08728655,  0.03558177,\n",
       "         0.02154596, -0.02499266,  0.03430886,  0.06605067,  0.13146972],\n",
       "       [-0.04183994, -0.04464164, -0.03315126, -0.02288468,  0.04658939,\n",
       "         0.04158746,  0.05600338, -0.02473293, -0.02595311, -0.03835666],\n",
       "       [-0.00914709, -0.04464164, -0.05686312, -0.05042748,  0.02182224,\n",
       "         0.04534524, -0.02867429,  0.03430886, -0.00991877, -0.01764613],\n",
       "       [ 0.07076875,  0.05068012, -0.03099563,  0.02187239, -0.03734373,\n",
       "        -0.04703355,  0.03391355, -0.03949338, -0.01495969, -0.0010777 ],\n",
       "       [ 0.0090156 , -0.04464164,  0.05522933, -0.00567042,  0.05759701,\n",
       "         0.04471895, -0.00290283,  0.02323852,  0.05568623,  0.10661708],\n",
       "       [-0.02730979, -0.04464164, -0.06009656, -0.02977038,  0.04658939,\n",
       "         0.01998022,  0.12227286, -0.03949338, -0.05140387, -0.00936191],\n",
       "       [ 0.01628068, -0.04464164,  0.00133873,  0.00810098,  0.0053108 ,\n",
       "         0.01089891,  0.03023191, -0.03949338, -0.04542404,  0.03205916],\n",
       "       [-0.01277963, -0.04464164, -0.02345095, -0.04009893, -0.01670444,\n",
       "         0.00463594, -0.01762938, -0.00259226, -0.03845972, -0.03835666],\n",
       "       [-0.05637009, -0.04464164, -0.07410811, -0.05042748, -0.02496016,\n",
       "        -0.04703355,  0.09281975, -0.0763945 , -0.0611758 , -0.04664087],\n",
       "       [ 0.04170844,  0.05068012,  0.01966154,  0.05974375, -0.00569682,\n",
       "        -0.00256647, -0.02867429, -0.00259226,  0.0311926 ,  0.00720652],\n",
       "       [-0.00551455,  0.05068012, -0.01590626, -0.06764174,  0.0493413 ,\n",
       "         0.07916528, -0.02867429,  0.03430886, -0.01811369,  0.04448548],\n",
       "       [ 0.04170844,  0.05068012, -0.01590626,  0.01729339, -0.03734373,\n",
       "        -0.01383982, -0.02499266, -0.01107952, -0.04688253,  0.01549073],\n",
       "       [-0.04547248, -0.04464164,  0.03906215,  0.00121528,  0.01631843,\n",
       "         0.01528299, -0.02867429,  0.02655962,  0.04452873, -0.02593034],\n",
       "       [-0.04547248, -0.04464164, -0.0730303 , -0.08141314,  0.08374012,\n",
       "         0.02780893,  0.17381578, -0.03949338, -0.00422151,  0.00306441]])"
      ]
     },
     "execution_count": 52,
     "metadata": {},
     "output_type": "execute_result"
    }
   ],
   "source": [
    "y_test"
   ]
  },
  {
   "cell_type": "markdown",
   "id": "55a354fc-4ebc-4653-90db-c040c8cea0d7",
   "metadata": {},
   "source": [
    "However, a good indicator of what prediction should be perfect is the __variance__. The more the variance is close to 1 the more the prediction is perfect."
   ]
  },
  {
   "cell_type": "code",
   "execution_count": 53,
   "id": "d818e0bd-c577-4fda-a1c2-6de72f441535",
   "metadata": {},
   "outputs": [
    {
     "data": {
      "text/plain": [
       "1.0"
      ]
     },
     "execution_count": 53,
     "metadata": {},
     "output_type": "execute_result"
    }
   ],
   "source": [
    "linreg.score(x_test, y_test)"
   ]
  },
  {
   "cell_type": "markdown",
   "id": "06a15b25-be67-4255-9ade-94563e9a15d3",
   "metadata": {},
   "source": [
    "now you will start with the linear  regression taking into account a single physiological factor, for example, you can start from the Age."
   ]
  },
  {
   "cell_type": "code",
   "execution_count": 55,
   "id": "edd4931d-d201-46f4-b1ed-05a71bef1248",
   "metadata": {},
   "outputs": [],
   "source": [
    "import numpy as np\n",
    "import matplotlib.pyplot as plt\n",
    "from sklearn import linear_model\n",
    "from sklearn import datasets"
   ]
  },
  {
   "cell_type": "code",
   "execution_count": 61,
   "id": "45c6f763-5c18-46a1-a108-f993935db49f",
   "metadata": {},
   "outputs": [
    {
     "data": {
      "text/plain": [
       "Text(0.5, 0, 'A linear regression represents a linear correlation between\\na feature and a traget')"
      ]
     },
     "execution_count": 61,
     "metadata": {},
     "output_type": "execute_result"
    },
    {
     "data": {
      "image/png": "[encoded data removed]",
      "text/plain": [
       "<Figure size 640x480 with 1 Axes>"
      ]
     },
     "metadata": {},
     "output_type": "display_data"
    }
   ],
   "source": [
    "diabetes = datasets.load_diabetes()\n",
    "x_train = diabetes.data[:-20]\n",
    "y_train = diabetes.target[:-20]\n",
    "x_test = diabetes.data[-20:]\n",
    "y_test = diabetes.target[-20:]\n",
    "x0_test = x_test[:,0]\n",
    "x0_train = x_train[:,0]\n",
    "x0_test = x0_test[:,np.newaxis]\n",
    "x0_train = x0_train[:,np.newaxis]\n",
    "linreg = linear_model.LinearRegression()\n",
    "linreg.fit(x0_train,y_train)\n",
    "y = linreg.predict(x0_test)\n",
    "plt.scatter(x0_test,y_test,color='k')\n",
    "plt.plot(x0_test,y,color='b',linewidth=1.5)\n",
    "plt.xlabel('''A linear regression represents a linear correlation between\n",
    "a feature and a traget''')"
   ]
  },
  {
   "cell_type": "markdown",
   "id": "24c82384-f95a-4a16-bfea-cd678122b9e3",
   "metadata": {},
   "source": [
    "The figure shows the blue line representing the linear correlation between the ages of patients and the disease progression."
   ]
  },
  {
   "cell_type": "markdown",
   "id": "c67fc7f3-8362-4d9a-b8d7-e30aafc86889",
   "metadata": {},
   "source": [
    "Actually, you have 10 physiological factors within the diabetes dataset. Therefore, to have a more complete picture of all the training set, you can make  a linear regression for each physiological feature, creating 10 models and seeing the reuslt for each of them through a linear chart."
   ]
  },
  {
   "cell_type": "code",
   "execution_count": 63,
   "id": "820a44fe-6aed-46d6-9bbb-400c81197846",
   "metadata": {},
   "outputs": [
    {
     "data": {
      "image/png": "[encoded data removed]",
      "text/plain": [
       "<Figure size 800x1200 with 10 Axes>"
      ]
     },
     "metadata": {},
     "output_type": "display_data"
    }
   ],
   "source": [
    "x_train = diabetes.data[:-20]\n",
    "y_train = diabetes.target[:-20]\n",
    "x_test = diabetes.data[-20:]\n",
    "y_test = diabetes.target[-20:]\n",
    "plt.figure(figsize=(8,12))\n",
    "for f in range(0,10):\n",
    "    xi_test = x_test[:,f]\n",
    "    xi_train = x_train[:,f]\n",
    "    xi_test = xi_test[:,np.newaxis]\n",
    "    xi_train = xi_train[:,np.newaxis]\n",
    "    linreg.fit(xi_train,y_train)\n",
    "    y = linreg.predict(xi_test)\n",
    "    plt.subplot(5,2,f+1)\n",
    "    plt.scatter(xi_test,y_test,color='k')\n",
    "    plt.plot(xi_test,y,color='b',linewidth=3)"
   ]
  },
  {
   "cell_type": "markdown",
   "id": "c759c311-4ebf-48ed-ab84-e198049d3d42",
   "metadata": {},
   "source": [
    "The figure shows ten linear charts, each of which  represents the correlation between a physiological factor and the  progression of diabetes.  \n",
    "*Ten linear charts showing the correlation between physiological factors and the progression of diabetes...*"
   ]
  },
  {
   "cell_type": "markdown",
   "id": "cf9a489b-5735-4445-9ca6-e147dd0e8154",
   "metadata": {},
   "source": [
    "Great ...  \n",
    "Good Bye ..."
   ]
  }
 ],
 "metadata": {
  "kernelspec": {
   "display_name": "Python 3 (ipykernel)",
   "language": "python",
   "name": "python3"
  },
  "language_info": {
   "codemirror_mode": {
    "name": "ipython",
    "version": 3
   },
   "file_extension": ".py",
   "mimetype": "text/x-python",
   "name": "python",
   "nbconvert_exporter": "python",
   "pygments_lexer": "ipython3",
   "version": "3.8.19"
  }
 },
 "nbformat": 4,
 "nbformat_minor": 5
}
